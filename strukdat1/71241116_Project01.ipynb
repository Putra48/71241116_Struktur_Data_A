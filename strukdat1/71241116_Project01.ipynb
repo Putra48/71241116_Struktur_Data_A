{
 "cells": [
  {
   "cell_type": "markdown",
   "id": "06971c5a-ca3b-41ba-83de-9acec2e5e694",
   "metadata": {},
   "source": [
    "# Libraries"
   ]
  },
  {
   "cell_type": "code",
   "execution_count": 10,
   "id": "445a215c-0e2b-4587-b9d1-206aa4ce7709",
   "metadata": {},
   "outputs": [],
   "source": [
    "import yfinance as yf\n",
    "import pandas as pd\n",
    "import numpy as np\n",
    "import matplotlib.pyplot as plt"
   ]
  },
  {
   "cell_type": "markdown",
   "id": "d4853a16-a199-4541-aea0-724bbac3776e",
   "metadata": {},
   "source": [
    "# Fungsi"
   ]
  },
  {
   "cell_type": "code",
   "execution_count": 11,
   "id": "eb302041-e058-48c5-9428-fc73020b8d49",
   "metadata": {},
   "outputs": [],
   "source": [
    "def fetch_data(tickers, start_date, end_date, auto_adjust=True):\n",
    "    data = yf.download(tickers, start=start_date, end=end_date, auto_adjust=auto_adjust)\n",
    "    return data"
   ]
  },
  {
   "cell_type": "markdown",
   "id": "5014a6e8-d6f2-410c-9db9-d96e1d829474",
   "metadata": {},
   "source": [
    "# Pengambilan Data"
   ]
  },
  {
   "cell_type": "code",
   "execution_count": 12,
   "id": "4f36c889-64c7-4b6b-91a5-bc23159025ca",
   "metadata": {
    "scrolled": true
   },
   "outputs": [
    {
     "name": "stderr",
     "output_type": "stream",
     "text": [
      "[*********************100%***********************]  1 of 1 completed\n"
     ]
    },
    {
     "data": {
      "text/html": [
       "<div>\n",
       "<style scoped>\n",
       "    .dataframe tbody tr th:only-of-type {\n",
       "        vertical-align: middle;\n",
       "    }\n",
       "\n",
       "    .dataframe tbody tr th {\n",
       "        vertical-align: top;\n",
       "    }\n",
       "\n",
       "    .dataframe thead tr th {\n",
       "        text-align: left;\n",
       "    }\n",
       "\n",
       "    .dataframe thead tr:last-of-type th {\n",
       "        text-align: right;\n",
       "    }\n",
       "</style>\n",
       "<table border=\"1\" class=\"dataframe\">\n",
       "  <thead>\n",
       "    <tr>\n",
       "      <th>Price</th>\n",
       "      <th>Adj Close</th>\n",
       "      <th>Close</th>\n",
       "      <th>High</th>\n",
       "      <th>Low</th>\n",
       "      <th>Open</th>\n",
       "      <th>Volume</th>\n",
       "    </tr>\n",
       "    <tr>\n",
       "      <th>Ticker</th>\n",
       "      <th>BBRI.JK</th>\n",
       "      <th>BBRI.JK</th>\n",
       "      <th>BBRI.JK</th>\n",
       "      <th>BBRI.JK</th>\n",
       "      <th>BBRI.JK</th>\n",
       "      <th>BBRI.JK</th>\n",
       "    </tr>\n",
       "    <tr>\n",
       "      <th>Date</th>\n",
       "      <th></th>\n",
       "      <th></th>\n",
       "      <th></th>\n",
       "      <th></th>\n",
       "      <th></th>\n",
       "      <th></th>\n",
       "    </tr>\n",
       "  </thead>\n",
       "  <tbody>\n",
       "    <tr>\n",
       "      <th>2016-01-04</th>\n",
       "      <td>1358.839355</td>\n",
       "      <td>2086.327637</td>\n",
       "      <td>2109.054443</td>\n",
       "      <td>2036.328491</td>\n",
       "      <td>2072.691406</td>\n",
       "      <td>110418807</td>\n",
       "    </tr>\n",
       "    <tr>\n",
       "      <th>2016-01-05</th>\n",
       "      <td>1370.681152</td>\n",
       "      <td>2104.509033</td>\n",
       "      <td>2149.962891</td>\n",
       "      <td>2104.509033</td>\n",
       "      <td>2104.509033</td>\n",
       "      <td>118849352</td>\n",
       "    </tr>\n",
       "    <tr>\n",
       "      <th>2016-01-06</th>\n",
       "      <td>1364.760254</td>\n",
       "      <td>2095.418457</td>\n",
       "      <td>2140.872070</td>\n",
       "      <td>2072.691406</td>\n",
       "      <td>2072.691406</td>\n",
       "      <td>115640047</td>\n",
       "    </tr>\n",
       "    <tr>\n",
       "      <th>2016-01-07</th>\n",
       "      <td>1332.195435</td>\n",
       "      <td>2045.419189</td>\n",
       "      <td>2095.418457</td>\n",
       "      <td>2045.419189</td>\n",
       "      <td>2063.600830</td>\n",
       "      <td>78404404</td>\n",
       "    </tr>\n",
       "    <tr>\n",
       "      <th>2016-01-08</th>\n",
       "      <td>1373.641846</td>\n",
       "      <td>2109.054443</td>\n",
       "      <td>2127.236084</td>\n",
       "      <td>2045.419189</td>\n",
       "      <td>2045.419189</td>\n",
       "      <td>117153123</td>\n",
       "    </tr>\n",
       "    <tr>\n",
       "      <th>...</th>\n",
       "      <td>...</td>\n",
       "      <td>...</td>\n",
       "      <td>...</td>\n",
       "      <td>...</td>\n",
       "      <td>...</td>\n",
       "      <td>...</td>\n",
       "    </tr>\n",
       "    <tr>\n",
       "      <th>2024-12-20</th>\n",
       "      <td>3713.997803</td>\n",
       "      <td>4060.000000</td>\n",
       "      <td>4120.000000</td>\n",
       "      <td>4050.000000</td>\n",
       "      <td>4070.000000</td>\n",
       "      <td>252689600</td>\n",
       "    </tr>\n",
       "    <tr>\n",
       "      <th>2024-12-23</th>\n",
       "      <td>3851.214600</td>\n",
       "      <td>4210.000000</td>\n",
       "      <td>4210.000000</td>\n",
       "      <td>4110.000000</td>\n",
       "      <td>4130.000000</td>\n",
       "      <td>167689800</td>\n",
       "    </tr>\n",
       "    <tr>\n",
       "      <th>2024-12-24</th>\n",
       "      <td>3842.066895</td>\n",
       "      <td>4200.000000</td>\n",
       "      <td>4250.000000</td>\n",
       "      <td>4170.000000</td>\n",
       "      <td>4220.000000</td>\n",
       "      <td>199536100</td>\n",
       "    </tr>\n",
       "    <tr>\n",
       "      <th>2024-12-27</th>\n",
       "      <td>3875.147217</td>\n",
       "      <td>4100.000000</td>\n",
       "      <td>4120.000000</td>\n",
       "      <td>4080.000000</td>\n",
       "      <td>4100.000000</td>\n",
       "      <td>143104400</td>\n",
       "    </tr>\n",
       "    <tr>\n",
       "      <th>2024-12-30</th>\n",
       "      <td>3856.244141</td>\n",
       "      <td>4080.000000</td>\n",
       "      <td>4120.000000</td>\n",
       "      <td>4070.000000</td>\n",
       "      <td>4080.000000</td>\n",
       "      <td>153934700</td>\n",
       "    </tr>\n",
       "  </tbody>\n",
       "</table>\n",
       "<p>2230 rows × 6 columns</p>\n",
       "</div>"
      ],
      "text/plain": [
       "Price         Adj Close        Close         High          Low         Open  \\\n",
       "Ticker          BBRI.JK      BBRI.JK      BBRI.JK      BBRI.JK      BBRI.JK   \n",
       "Date                                                                          \n",
       "2016-01-04  1358.839355  2086.327637  2109.054443  2036.328491  2072.691406   \n",
       "2016-01-05  1370.681152  2104.509033  2149.962891  2104.509033  2104.509033   \n",
       "2016-01-06  1364.760254  2095.418457  2140.872070  2072.691406  2072.691406   \n",
       "2016-01-07  1332.195435  2045.419189  2095.418457  2045.419189  2063.600830   \n",
       "2016-01-08  1373.641846  2109.054443  2127.236084  2045.419189  2045.419189   \n",
       "...                 ...          ...          ...          ...          ...   \n",
       "2024-12-20  3713.997803  4060.000000  4120.000000  4050.000000  4070.000000   \n",
       "2024-12-23  3851.214600  4210.000000  4210.000000  4110.000000  4130.000000   \n",
       "2024-12-24  3842.066895  4200.000000  4250.000000  4170.000000  4220.000000   \n",
       "2024-12-27  3875.147217  4100.000000  4120.000000  4080.000000  4100.000000   \n",
       "2024-12-30  3856.244141  4080.000000  4120.000000  4070.000000  4080.000000   \n",
       "\n",
       "Price          Volume  \n",
       "Ticker        BBRI.JK  \n",
       "Date                   \n",
       "2016-01-04  110418807  \n",
       "2016-01-05  118849352  \n",
       "2016-01-06  115640047  \n",
       "2016-01-07   78404404  \n",
       "2016-01-08  117153123  \n",
       "...               ...  \n",
       "2024-12-20  252689600  \n",
       "2024-12-23  167689800  \n",
       "2024-12-24  199536100  \n",
       "2024-12-27  143104400  \n",
       "2024-12-30  153934700  \n",
       "\n",
       "[2230 rows x 6 columns]"
      ]
     },
     "execution_count": 12,
     "metadata": {},
     "output_type": "execute_result"
    }
   ],
   "source": [
    "tickers = ['BBRI.JK']\n",
    "data = fetch_data(tickers=tickers, start_date='2016-01-01', end_date='2025-01-01', auto_adjust=False)\n",
    "data"
   ]
  },
  {
   "cell_type": "markdown",
   "id": "af0b4de2-83b0-48b1-b42e-2101bd5d3ea9",
   "metadata": {},
   "source": [
    "# Charting"
   ]
  },
  {
   "cell_type": "code",
   "execution_count": 13,
   "id": "5b4bb3cc-0514-4528-8cfc-1c812ba9e81e",
   "metadata": {},
   "outputs": [
    {
     "data": {
      "image/png": "[encoded data removed]",
      "text/plain": [
       "<Figure size 640x480 with 1 Axes>"
      ]
     },
     "metadata": {},
     "output_type": "display_data"
    }
   ],
   "source": [
    "import matplotlib.pyplot as plt\n",
    "data[('Close','BBRI.JK')].plot(title='BBRI,JK Closing Price')\n",
    "plt.xlabel('Date')\n",
    "plt.ylabel('Close Price')\n",
    "plt.show()"
   ]
  },
  {
   "cell_type": "code",
   "execution_count": null,
   "id": "69e9fd97-0f78-4447-8928-d011017a7bdc",
   "metadata": {},
   "outputs": [],
   "source": []
  }
 ],
 "metadata": {
  "kernelspec": {
   "display_name": "Python 3 (ipykernel)",
   "language": "python",
   "name": "python3"
  },
  "language_info": {
   "codemirror_mode": {
    "name": "ipython",
    "version": 3
   },
   "file_extension": ".py",
   "mimetype": "text/x-python",
   "name": "python",
   "nbconvert_exporter": "python",
   "pygments_lexer": "ipython3",
   "version": "3.13.0"
  }
 },
 "nbformat": 4,
 "nbformat_minor": 5
}
