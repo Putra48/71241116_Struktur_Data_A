{
 "cells": [
  {
   "cell_type": "markdown",
   "id": "06971c5a-ca3b-41ba-83de-9acec2e5e694",
   "metadata": {},
   "source": [
    "# libraries"
   ]
  },
  {
   "cell_type": "code",
   "execution_count": null,
   "id": "445a215c-0e2b-4587-b9d1-206aa4ce7709",
   "metadata": {},
   "outputs": [],
   "source": [
    "import yfinance as yf\n",
    "import pandas as pd\n",
    "import numpy as np\n",
    "import matplotlib.pyplot as plt"
   ]
  },
  {
   "cell_type": "markdown",
   "id": "d4853a16-a199-4541-aea0-724bbac3776e",
   "metadata": {},
   "source": [
    "# Fungsi"
   ]
  },
  {
   "cell_type": "code",
   "execution_count": null,
   "id": "eb302041-e058-48c5-9428-fc73020b8d49",
   "metadata": {},
   "outputs": [],
   "source": [
    "def fetch_data(tickers, start_date, end_date, auto_adjust=True):\n",
    "    data = yf.download(tickers, start=start_date, end=end_date, auto_adjust=auto_adjust)\n",
    "    return data"
   ]
  },
  {
   "cell_type": "markdown",
   "id": "5014a6e8-d6f2-410c-9db9-d96e1d829474",
   "metadata": {},
   "source": [
    "# Pengambilan Data"
   ]
  },
  {
   "cell_type": "code",
   "execution_count": null,
   "id": "4f36c889-64c7-4b6b-91a5-bc23159025ca",
   "metadata": {},
   "outputs": [],
   "source": [
    "tickers = ['BBRI.Jk']\n",
    "data = fetch_data(tickers=tickers, start_date='2016-01-01', end_date='2025-01-01', auto_adjust=False)\n",
    "data"
   ]
  },
  {
   "cell_type": "code",
   "execution_count": null,
   "id": "086105c7-e82a-47fb-965b-c763eb04be14",
   "metadata": {},
   "outputs": [],
   "source": [
    "import matplotlib.pyplot as plt\n",
    "data[('Close', 'BBRI.JK')].plot(title='BBRJ.JK Closing Price')\n",
    "plt.xlabel('Date')\n",
    "plt.ylabel('Close Price')\n",
    "plt.show()"
   ]
  }
 ],
 "metadata": {
  "kernelspec": {
   "display_name": "Python 3 (ipykernel)",
   "language": "python",
   "name": "python3"
  },
  "language_info": {
   "codemirror_mode": {
    "name": "ipython",
    "version": 3
   },
   "file_extension": ".py",
   "mimetype": "text/x-python",
   "name": "python",
   "nbconvert_exporter": "python",
   "pygments_lexer": "ipython3",
   "version": "3.13.0"
  }
 },
 "nbformat": 4,
 "nbformat_minor": 5
}
